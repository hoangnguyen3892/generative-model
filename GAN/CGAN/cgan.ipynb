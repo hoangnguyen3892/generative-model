{
 "cells": [
  {
   "cell_type": "code",
   "execution_count": 1,
   "metadata": {
    "collapsed": true
   },
   "outputs": [],
   "source": [
    "import numpy as np\n",
    "import matplotlib.pyplot as plt\n",
    "import matplotlib.gridspec as gridspec\n",
    "import os\n",
    "import importlib\n",
    "import argparse\n",
    "import time"
   ]
  },
  {
   "cell_type": "code",
   "execution_count": 2,
   "metadata": {
    "collapsed": true
   },
   "outputs": [],
   "source": [
    "import torch.nn as nn\n",
    "import torch.nn.functional as F\n",
    "import torch.nn.parallel\n",
    "import torch.backends.cudnn as cudnn\n",
    "import torch.autograd as autograd\n",
    "from torch.autograd import Variable\n",
    "import torch.utils.data\n",
    "import torchvision.datasets as dset\n",
    "import torchvision.transforms as transforms\n",
    "import torch.optim as optim\n",
    "from torchvision import transforms\n",
    "import torchvision.utils as vutils\n",
    "from torchnet.meter import AverageValueMeter"
   ]
  },
  {
   "cell_type": "code",
   "execution_count": 20,
   "metadata": {
    "collapsed": true
   },
   "outputs": [],
   "source": [
    "parser = {\n",
    "    'dataset': 'cifar10',\n",
    "    'dataroot': './data',\n",
    "    'workers': 2,\n",
    "    'batch_size': 4,\n",
    "    'image_size': 28,\n",
    "    'image_channels': 3,\n",
    "    'nz': 100, #dim of latent variables\n",
    "    'ngf': 64, #number of G features\n",
    "    'ndf': 64, #number of D features\n",
    "    'epochs': 25, \n",
    "    'lr': 1e-3,\n",
    "    'beta1': 0.5, #for adam opt\n",
    "    'netG': '',\n",
    "    'netD': '',\n",
    "    'outf': './output',\n",
    "#    'ngpu': 0,\n",
    "    'manualSeed': 7,\n",
    "    'no_cuda': True,\n",
    "}\n",
    "args = argparse.Namespace(**parser)"
   ]
  },
  {
   "cell_type": "markdown",
   "metadata": {
    "heading_collapsed": true
   },
   "source": [
    "# Load data"
   ]
  },
  {
   "cell_type": "code",
   "execution_count": 17,
   "metadata": {
    "collapsed": false,
    "hidden": true
   },
   "outputs": [],
   "source": [
    "trans = transforms.Compose([transforms.ToTensor(), transforms.Normalize((0.5,), (1.0,))])\n",
    "train_set = dset.MNIST(root=args.dataroot, train=True, transform=trans, download=True)\n",
    "test_set = dset.MNIST(root=args.dataroot, train=False, transform=trans)"
   ]
  },
  {
   "cell_type": "code",
   "execution_count": 18,
   "metadata": {
    "collapsed": true,
    "hidden": true
   },
   "outputs": [],
   "source": [
    "train_loader = torch.utils.data.DataLoader(dataset=train_set, batch_size=args.batch_size, shuffle=True, num_workers=args.workers)\n",
    "test_loader = torch.utils.data.DataLoader(dataset=test_set, batch_size=args.batch_size, shuffle=False, num_workers=args.workers)"
   ]
  },
  {
   "cell_type": "code",
   "execution_count": 19,
   "metadata": {
    "collapsed": false,
    "hidden": true
   },
   "outputs": [
    {
     "name": "stdout",
     "output_type": "stream",
     "text": [
      "\n",
      "(0 ,0 ,.,.) = \n",
      " -0.5000 -0.5000 -0.5000  ...  -0.5000 -0.5000 -0.5000\n",
      " -0.5000 -0.5000 -0.5000  ...  -0.5000 -0.5000 -0.5000\n",
      " -0.5000 -0.5000 -0.5000  ...  -0.5000 -0.5000 -0.5000\n",
      "           ...             ⋱             ...          \n",
      " -0.5000 -0.5000 -0.5000  ...  -0.5000 -0.5000 -0.5000\n",
      " -0.5000 -0.5000 -0.5000  ...  -0.5000 -0.5000 -0.5000\n",
      " -0.5000 -0.5000 -0.5000  ...  -0.5000 -0.5000 -0.5000\n",
      "     ⋮ \n",
      "\n",
      "(1 ,0 ,.,.) = \n",
      " -0.5000 -0.5000 -0.5000  ...  -0.5000 -0.5000 -0.5000\n",
      " -0.5000 -0.5000 -0.5000  ...  -0.5000 -0.5000 -0.5000\n",
      " -0.5000 -0.5000 -0.5000  ...  -0.5000 -0.5000 -0.5000\n",
      "           ...             ⋱             ...          \n",
      " -0.5000 -0.5000 -0.5000  ...  -0.5000 -0.5000 -0.5000\n",
      " -0.5000 -0.5000 -0.5000  ...  -0.5000 -0.5000 -0.5000\n",
      " -0.5000 -0.5000 -0.5000  ...  -0.5000 -0.5000 -0.5000\n",
      "     ⋮ \n",
      "\n",
      "(2 ,0 ,.,.) = \n",
      " -0.5000 -0.5000 -0.5000  ...  -0.5000 -0.5000 -0.5000\n",
      " -0.5000 -0.5000 -0.5000  ...  -0.5000 -0.5000 -0.5000\n",
      " -0.5000 -0.5000 -0.5000  ...  -0.5000 -0.5000 -0.5000\n",
      "           ...             ⋱             ...          \n",
      " -0.5000 -0.5000 -0.5000  ...  -0.5000 -0.5000 -0.5000\n",
      " -0.5000 -0.5000 -0.5000  ...  -0.5000 -0.5000 -0.5000\n",
      " -0.5000 -0.5000 -0.5000  ...  -0.5000 -0.5000 -0.5000\n",
      "     ⋮ \n",
      "\n",
      "(3 ,0 ,.,.) = \n",
      " -0.5000 -0.5000 -0.5000  ...  -0.5000 -0.5000 -0.5000\n",
      " -0.5000 -0.5000 -0.5000  ...  -0.5000 -0.5000 -0.5000\n",
      " -0.5000 -0.5000 -0.5000  ...  -0.5000 -0.5000 -0.5000\n",
      "           ...             ⋱             ...          \n",
      " -0.5000 -0.5000 -0.5000  ...  -0.5000 -0.5000 -0.5000\n",
      " -0.5000 -0.5000 -0.5000  ...  -0.5000 -0.5000 -0.5000\n",
      " -0.5000 -0.5000 -0.5000  ...  -0.5000 -0.5000 -0.5000\n",
      "[torch.FloatTensor of size 4x1x28x28]\n",
      "\n",
      "\n",
      " 1\n",
      " 1\n",
      " 9\n",
      " 7\n",
      "[torch.LongTensor of size 4]\n",
      "\n"
     ]
    }
   ],
   "source": [
    "for i, j in train_loader:\n",
    "    print (i)\n",
    "    print (j)\n",
    "    break"
   ]
  },
  {
   "cell_type": "code",
   "execution_count": null,
   "metadata": {
    "collapsed": true,
    "hidden": true
   },
   "outputs": [],
   "source": [
    "mnist = input_data.read_data_sets('../../MNIST_data', one_hot=True)\n",
    "mb_size = 64\n",
    "Z_dim = 100\n",
    "X_dim = mnist.train.images.shape[1]\n",
    "y_dim = mnist.train.labels.shape[1]\n",
    "h_dim = 128\n",
    "cnt = 0\n",
    "lr = 1e-3"
   ]
  },
  {
   "cell_type": "markdown",
   "metadata": {
    "hidden": true
   },
   "source": [
    "To do:\n",
    "- Get one hot encode label y"
   ]
  },
  {
   "cell_type": "markdown",
   "metadata": {},
   "source": [
    "# Define class"
   ]
  },
  {
   "cell_type": "markdown",
   "metadata": {},
   "source": [
    "## Generator"
   ]
  },
  {
   "cell_type": "markdown",
   "metadata": {},
   "source": [
    "## Discriminator"
   ]
  },
  {
   "cell_type": "code",
   "execution_count": null,
   "metadata": {
    "collapsed": true
   },
   "outputs": [],
   "source": [
    "#Define class Generator:\n",
    "class _netG(nn.Module):\n",
    "    #def __init__(self, ngpu):\n",
    "    def __init__(self):\n",
    "        super(_netG, self).__init__()  #no need to list __init__ of nn.Module\n",
    "        #self.ngpu = ngpu\n",
    "        self.main = nn.Sequential(\n",
    "            # input is Z, going into a convolution\n",
    "            nn.ConvTranspose2d(args.nz, args.ngf * 8, 4, 1, 0, bias=False),\n",
    "            nn.BatchNorm2d(args.ngf * 8),\n",
    "            nn.ReLU(True),\n",
    "            # state size. (ngf*8) x 4 x 4\n",
    "            nn.ConvTranspose2d(args.ngf * 8, args.ngf * 4, 4, 2, 1, bias=False),\n",
    "            nn.BatchNorm2d(args.ngf * 4),\n",
    "            nn.ReLU(True),\n",
    "            # state size. (ngf*4) x 8 x 8\n",
    "            nn.ConvTranspose2d(args.ngf * 4, args.ngf * 2, 4, 2, 1, bias=False),\n",
    "            nn.BatchNorm2d(args.ngf * 2),\n",
    "            nn.ReLU(True),\n",
    "            # state size. (ngf*2) x 16 x 16\n",
    "            nn.ConvTranspose2d(args.ngf * 2, args.ngf, 4, 2, 1, bias=False),\n",
    "            nn.BatchNorm2d(args.ngf),\n",
    "            nn.ReLU(True),\n",
    "            # state size. (ngf) x 32 x 32\n",
    "            nn.ConvTranspose2d(args.ngf, args.image_channels, 4, 2, 1, bias=False),\n",
    "            nn.Tanh()\n",
    "            # state size. (nc) x 64 x 64 --> image size = 64\n",
    "        )\n",
    "\n",
    "    def forward(self, input):\n",
    "        #gpu_ids = None\n",
    "        #if isinstance(input.data, torch.cuda.FloatTensor) and self.ngpu > 1:\n",
    "            #gpu_ids = range(self.ngpu)\n",
    "        #return nn.parallel.data_parallel(self.main, input, gpu_ids)\n",
    "        return self.main(input)"
   ]
  }
 ],
 "metadata": {
  "kernelspec": {
   "display_name": "Python 3",
   "language": "python",
   "name": "python3"
  },
  "language_info": {
   "codemirror_mode": {
    "name": "ipython",
    "version": 3
   },
   "file_extension": ".py",
   "mimetype": "text/x-python",
   "name": "python",
   "nbconvert_exporter": "python",
   "pygments_lexer": "ipython3",
   "version": "3.5.2"
  },
  "toc": {
   "colors": {
    "hover_highlight": "#DAA520",
    "running_highlight": "#FF0000",
    "selected_highlight": "#FFD700"
   },
   "moveMenuLeft": true,
   "nav_menu": {
    "height": "84px",
    "width": "252px"
   },
   "navigate_menu": true,
   "number_sections": true,
   "sideBar": true,
   "threshold": 4,
   "toc_cell": false,
   "toc_section_display": "block",
   "toc_window_display": false
  }
 },
 "nbformat": 4,
 "nbformat_minor": 2
}
